{
 "cells": [
  {
   "cell_type": "markdown",
   "id": "f7c90adf-5c28-49e7-9b44-b59f0a5695d5",
   "metadata": {},
   "source": [
    "## 1 Set theory"
   ]
  },
  {
   "cell_type": "markdown",
   "id": "21ac5abb-2648-4609-905a-a6f58bbe6134",
   "metadata": {},
   "source": [
    "From the lecture we already know $\\mathrm{P}(A \\cup B)=\\mathrm{P}(A)+\\mathrm{P}(B)-\\mathrm{P}(A\\cap B)$. With this it follows:\n",
    "\n",
    "$\\begin{aligned} & \\mathrm{P}(A \\cup B \\cup C) \\\\ = & \\mathrm{P}(A \\cup(B \\cup C)) \\\\ = & \\mathrm{P}(A)+\\mathrm{P}(B \\cup C)-\\mathrm{P}(A \\cap(B \\cup C)) \\\\ = & \\mathrm{P}(A)+\\mathrm{P}(B)+\\mathrm{P}(C)-\\mathrm{P}(B \\cap C)-\\mathrm{P}(A \\cap(B \\cup C)) \\hspace{6cm} |\\text{use distributivity}  \\\\ = & \\mathrm{P}(A)+\\mathrm{P}(B)+\\mathrm{P}(C)-\\mathrm{P}(B \\cap C)-\\mathrm{P}((A \\cap B) \\cup(A \\cap C)) \\\\ = & \\mathrm{P}(A)+\\mathrm{P}(B)+\\mathrm{P}(C)-\\mathrm{P}(B \\cap C)-\\mathrm{P}(A \\cap B)-\\mathrm{P}(A \\cap C)+\\mathrm{P}((A \\cap B) \\cap(A \\cap C)) \\\\ = & \\mathrm{P}(A)+\\mathrm{P}(B)+\\mathrm{P}(C)-\\mathrm{P}(B \\cap C)-\\mathrm{P}(A \\cap B)-\\mathrm{P}(A \\cap C)+\\mathrm{P}(A \\cap B \\cap C)\\end{aligned}$"
   ]
  },
  {
   "cell_type": "markdown",
   "id": "894577d8-4864-42ef-bee7-7bfa06b7dc5f",
   "metadata": {},
   "source": [
    "## 4 Coding exercise: Coupon collector’s problem"
   ]
  },
  {
   "cell_type": "code",
   "execution_count": 1,
   "id": "1c140314-dfc6-443a-9c5a-7950fe7fbc78",
   "metadata": {},
   "outputs": [],
   "source": [
    "import numpy as np\n",
    "import matplotlib.pyplot as plt\n",
    "from scipy.special import erfinv\n",
    "from scipy.special import zeta\n",
    "from scipy.stats import norm\n",
    "import random\n",
    "from math import factorial\n",
    "import mpmath as mp"
   ]
  },
  {
   "cell_type": "code",
   "execution_count": 2,
   "id": "16bff29e-e063-41aa-963a-dae5dd6db40d",
   "metadata": {},
   "outputs": [
    {
     "data": {
      "text/plain": [
       "<matplotlib.legend.Legend at 0x7fa38d22bb38>"
      ]
     },
     "execution_count": 2,
     "metadata": {},
     "output_type": "execute_result"
    },
    {
     "data": {
      "image/png": "[encoded data removed]",
      "text/plain": [
       "<Figure size 432x288 with 1 Axes>"
      ]
     },
     "metadata": {
      "needs_background": "light"
     },
     "output_type": "display_data"
    }
   ],
   "source": [
    "N=np.linspace(1,50,50)\n",
    "\n",
    "def tries(N,runs):\n",
    "    results=[]\n",
    "    for i in range(runs):\n",
    "        coupons = 0\n",
    "        N_tries = 0\n",
    "        while coupons < N:\n",
    "            N_tries += 1\n",
    "            r = np.random.uniform(0,1,1)\n",
    "            if r < (N - coupons)/N:\n",
    "                coupons += 1\n",
    "        results.append(N_tries)         \n",
    "    return results\n",
    "\n",
    "def avg_tries(N,runs):\n",
    "    return np.mean(tries(N,runs))\n",
    "\n",
    "simulations=[]\n",
    "for i in N:\n",
    "    simulations.append(avg_tries(i,100))    \n",
    "    \n",
    "def expected(N):\n",
    "    t=0\n",
    "    for i in range(N):\n",
    "        i=int(i)\n",
    "        t+=1/(i+1)      \n",
    "    return t*N\n",
    "\n",
    "exp_values=[]\n",
    "for i in N:\n",
    "    exp_values.append(expected(int(i)))\n",
    "        \n",
    "plt.scatter(N,simulations,label=\"number of tries (avg. over 100 sims)\")\n",
    "plt.plot(N,exp_values, label=\"expected number of tries\",color=\"g\")\n",
    "plt.legend()"
   ]
  }
 ],
 "metadata": {
  "kernelspec": {
   "display_name": "Python 3",
   "language": "python",
   "name": "python3"
  },
  "language_info": {
   "codemirror_mode": {
    "name": "ipython",
    "version": 3
   },
   "file_extension": ".py",
   "mimetype": "text/x-python",
   "name": "python",
   "nbconvert_exporter": "python",
   "pygments_lexer": "ipython3",
   "version": "3.7.3"
  }
 },
 "nbformat": 4,
 "nbformat_minor": 5
}
