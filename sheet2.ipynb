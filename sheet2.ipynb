{
 "cells": [
  {
   "cell_type": "markdown",
   "id": "e44093ce-652f-4728-9eca-6fc212a346e2",
   "metadata": {},
   "source": [
    "## 3 Covariance and correlation"
   ]
  },
  {
   "cell_type": "markdown",
   "id": "e0fd4f1e-ed57-4e44-9c79-eea5286aec41",
   "metadata": {},
   "source": [
    "We will look at $\\text{Var}\\left(\\frac{X}{\\sigma_Y}\\pm\\frac{Y}{\\sigma_Y}\\right)$. This is always non-negative, because a variance has to be non-negative. From the lecture we already know $\\text{Var}(aX)=a^2\\text{Var}(X)$ and $\\text{Cov}(aX,bY)=ab\\text{Cov}(X,Y)$ and $\\text{Var}(X+Y)=\\text{Var}(X)+\\text{Var}(Y)+2\\text{Cov}(X,Y)$. With this we get:\n",
    "\\begin{align*}\n",
    "&\\text{Var}\\left(\\frac{X}{\\sigma_Y}\\pm\\frac{Y}{\\sigma_Y}\\right) \\\\=& \\text{Var}\\left(\\frac{X}{\\sigma_X}\\right)+\\text{Var}\\left(\\frac{Y}{\\sigma_Y}\\right)\\pm2\\text{Cov}\\left(\\frac{X}{\\sigma_X},\\frac{Y}{\\sigma_Y}\\right)\\\\=&\\frac{\\text{Var}(X)}{\\sigma_X^2}+\\frac{\\text{Var}(Y)}{\\sigma_Y^2}\\pm2\\frac{\\text{Cov}(X,Y)}{\\sigma_X\\sigma_Y}\\\\ =& 2\\pm2\\rho(X,Y)\\geq0\n",
    "\\end{align*}\n",
    "This can be easily rearranged as:\n",
    "\\begin{align*}\n",
    "    -1\\leq\\rho(X,Y)\\leq+1\n",
    "\\end{align*}"
   ]
  },
  {
   "cell_type": "markdown",
   "id": "dc99c366-1ffc-48b7-9f42-b0c33d10e655",
   "metadata": {},
   "source": [
    "## 4 Correlation Between CO$_2$ levels and Earth’s surface temperature"
   ]
  },
  {
   "cell_type": "code",
   "execution_count": 232,
   "id": "b06ad6e6-d550-44cc-9f74-9c51cb8009f6",
   "metadata": {},
   "outputs": [],
   "source": [
    "import numpy as np\n",
    "import matplotlib.pyplot as plt\n",
    "import pandas as pd"
   ]
  },
  {
   "cell_type": "code",
   "execution_count": 233,
   "id": "40ab7560-e3fc-4377-8d07-7ba22cf53c0a",
   "metadata": {},
   "outputs": [],
   "source": [
    "time=pd.read_csv('monthly_in_situ_co2_mlo.csv',skiprows=59,usecols=[3],delimiter=\",\")\n",
    "co2=pd.read_csv('monthly_in_situ_co2_mlo.csv',skiprows=59,usecols=[4],delimiter=\",\")\n",
    "co2=co2.to_numpy()\n",
    "time=time.to_numpy()\n",
    "\n",
    "co2_annual=[]\n",
    "k=0\n",
    "count=0\n",
    "for idx,i in enumerate(time): \n",
    "    if co2[idx]>0:\n",
    "        k+=co2[idx]\n",
    "        count+=1\n",
    "    if (idx%12==0) & (idx!=0):\n",
    "        co2_annual.append(k/count)\n",
    "        k=0\n",
    "        count=0\n",
    "    \n",
    "\n",
    "yr=np.linspace(1958,2022,65)\n",
    "temp=pd.read_csv('temp.csv',skiprows=79,usecols=[13],delimiter=\",\")\n",
    "yr_t=pd.read_csv('temp.csv',skiprows=79,usecols=[0],delimiter=\",\")\n",
    "yr_t=yr_t.to_numpy()\n",
    "temp=temp.to_numpy()\n",
    "temp=temp[:-1]\n",
    "yr_t=yr_t[:-1]\n",
    "for idx,i in enumerate(temp):\n",
    "    temp[idx]=float(i)"
   ]
  },
  {
   "cell_type": "code",
   "execution_count": 234,
   "id": "7e36ad44-b1fb-4680-aba0-47149508083c",
   "metadata": {},
   "outputs": [
    {
     "name": "stdout",
     "output_type": "stream",
     "text": [
      "0.961713608600864\n"
     ]
    }
   ],
   "source": [
    "#variances\n",
    "def var(X):\n",
    "    return np.sum((np.mean(X)-X)**2)/(len(X))\n",
    "temp_var=var(temp)\n",
    "co2_var=var(co2_annual)\n",
    "#covariance\n",
    "def cov(X,Y):\n",
    "    return np.mean(X*Y)-np.mean(X)*np.mean(Y)\n",
    "co2_annual=np.asarray(co2_annual)\n",
    "corr=cov(co2_annual,temp)/(co2_var**0.5*temp_var**0.5)\n",
    "print(corr)"
   ]
  },
  {
   "cell_type": "markdown",
   "id": "8a1cd64f-c36c-4513-b27a-fc9abf1449ff",
   "metadata": {},
   "source": [
    "The correlation coefficient between annual CO$_2$ levels and temperature deviation is $$\\rho=\\frac{\\text{COV}(T,CO_2)}{\\sigma_T\\sigma_{CO_2}}=0.96$$"
   ]
  },
  {
   "cell_type": "code",
   "execution_count": 235,
   "id": "431b645f-a56c-4420-b649-af9456406147",
   "metadata": {},
   "outputs": [
    {
     "data": {
      "text/plain": [
       "Text(0.5, 1.0, 'Visualization of the correlation')"
      ]
     },
     "execution_count": 235,
     "metadata": {},
     "output_type": "execute_result"
    },
    {
     "data": {
      "image/png": "[encoded data removed]",
      "text/plain": [
       "<Figure size 432x288 with 1 Axes>"
      ]
     },
     "metadata": {
      "needs_background": "light"
     },
     "output_type": "display_data"
    }
   ],
   "source": [
    "##temp vs co2 levels\n",
    "plt.scatter(temp,co2_annual,s=4)\n",
    "plt.xlabel(\"temperature deviation\")\n",
    "plt.ylabel(r\"CO$_2$ [ppm]\")\n",
    "plt.title(\"Visualization of the correlation\")\n",
    "# plt.legend()"
   ]
  }
 ],
 "metadata": {
  "kernelspec": {
   "display_name": "Python 3",
   "language": "python",
   "name": "python3"
  },
  "language_info": {
   "codemirror_mode": {
    "name": "ipython",
    "version": 3
   },
   "file_extension": ".py",
   "mimetype": "text/x-python",
   "name": "python",
   "nbconvert_exporter": "python",
   "pygments_lexer": "ipython3",
   "version": "3.7.3"
  }
 },
 "nbformat": 4,
 "nbformat_minor": 5
}
