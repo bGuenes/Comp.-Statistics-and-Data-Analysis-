{
 "cells": [
  {
   "cell_type": "markdown",
   "metadata": {},
   "source": [
    "# Exercise 1\n",
    "Berkay Günes & Niklas Knöll\n"
   ]
  },
  {
   "cell_type": "markdown",
   "metadata": {},
   "source": [
    "## 1 Set theory"
   ]
  },
  {
   "cell_type": "markdown",
   "metadata": {},
   "source": [
    "From the lecture we already know $\\mathrm{P}(A \\cup B)=\\mathrm{P}(A)+\\mathrm{P}(B)-\\mathrm{P}(A\\cap B)$. With this it follows:\n",
    "\n",
    "$\\begin{aligned} & \\mathrm{P}(A \\cup B \\cup C) \\\\ = & \\mathrm{P}(A \\cup(B \\cup C)) \\\\ = & \\mathrm{P}(A)+\\mathrm{P}(B \\cup C)-\\mathrm{P}(A \\cap(B \\cup C)) \\\\ = & \\mathrm{P}(A)+\\mathrm{P}(B)+\\mathrm{P}(C)-\\mathrm{P}(B \\cap C)-\\mathrm{P}(A \\cap(B \\cup C)) \\hspace{6cm} |\\text{use distributivity}  \\\\ = & \\mathrm{P}(A)+\\mathrm{P}(B)+\\mathrm{P}(C)-\\mathrm{P}(B \\cap C)-\\mathrm{P}((A \\cap B) \\cup(A \\cap C)) \\\\ = & \\mathrm{P}(A)+\\mathrm{P}(B)+\\mathrm{P}(C)-\\mathrm{P}(B \\cap C)-\\mathrm{P}(A \\cap B)-\\mathrm{P}(A \\cap C)+\\mathrm{P}((A \\cap B) \\cap(A \\cap C)) \\\\ = & \\mathrm{P}(A)+\\mathrm{P}(B)+\\mathrm{P}(C)-\\mathrm{P}(B \\cap C)-\\mathrm{P}(A \\cap B)-\\mathrm{P}(A \\cap C)+\\mathrm{P}(A \\cap B \\cap C)\\end{aligned}$"
   ]
  },
  {
   "cell_type": "markdown",
   "metadata": {},
   "source": [
    "## 2 Conditional probabilities\n",
    "Two events, 𝐴 and 𝐵, are such that 𝑃(𝐴) = 0.5, 𝑃(𝐵) = 0.3, and 𝑃(𝐴 ∩ 𝐵) = 0.1. <br> <br>\n",
    "(a) $P(A|B) = \\frac{P(A\\cap B)}{P(B)} = \\frac{0.1}{0.3} = \\frac13$ <br> <br>\n",
    "(b) $P(A|A\\cup B) = \\frac{P(A\\cap(A\\cup B))}{P(A\\cup B)} = \\frac{P(A)}{P(A)+P(B)-P(A\\cap B)} = \\frac57$ <br> <br>\n",
    "(c) $P(A|A\\cap B) = \\frac{P(A\\cap(A\\cap B))}{P(A\\cap B)} = \\frac{P(A\\cap B)}{P(A\\cap B)} = 1$ <br> <br>\n",
    "(d) $P(\\overline{A\\cap B}) = 1 - P(A\\cap B) = 0.9$"
   ]
  },
  {
   "cell_type": "markdown",
   "metadata": {},
   "source": [
    "## 3 Event composition\n",
    "\n",
    "In a group of 100 students, 40 are taking a math class, 30 are taking a physics class, and 20 are taking both math and physics. You randomly select a student. Calculate the probability that the selected student is taking a math class, but not a physics class. <br> <br>\n",
    "\n",
    "$n = 1, m = 0.4, p = 0.3, m\\cap p = 0.2$ <br>\n",
    "\n",
    "$P = P(m) - P(m\\cap p) = \\frac{0.4 - 0.2}{1} = 0.2$"
   ]
  },
  {
   "cell_type": "markdown",
   "metadata": {},
   "source": [
    "## 4 Coupon collector’s problem"
   ]
  },
  {
   "cell_type": "code",
   "execution_count": 2,
   "metadata": {},
   "outputs": [],
   "source": [
    "import numpy as np\n",
    "import matplotlib.pyplot as plt\n",
    "from scipy.special import erfinv\n",
    "from scipy.special import zeta\n",
    "from scipy.stats import norm\n",
    "import random\n",
    "from math import factorial\n",
    "import mpmath as mp"
   ]
  },
  {
   "cell_type": "code",
   "execution_count": 3,
   "metadata": {},
   "outputs": [
    {
     "data": {
      "text/plain": [
       "<matplotlib.legend.Legend at 0x7fd37f10fcf8>"
      ]
     },
     "execution_count": 3,
     "metadata": {},
     "output_type": "execute_result"
    },
    {
     "data": {
      "image/png": "[encoded data removed]",
      "text/plain": [
       "<Figure size 432x288 with 1 Axes>"
      ]
     },
     "metadata": {
      "needs_background": "light"
     },
     "output_type": "display_data"
    }
   ],
   "source": [
    "N=np.linspace(1,50,50)\n",
    "\n",
    "def tries(N,runs):\n",
    "    results=[]\n",
    "    for i in range(runs):\n",
    "        coupons = 0\n",
    "        N_tries = 0\n",
    "        while coupons < N:\n",
    "            N_tries += 1\n",
    "            r = np.random.uniform(0,1,1)\n",
    "            if r < (N - coupons)/N:\n",
    "                coupons += 1\n",
    "        results.append(N_tries)         \n",
    "    return results\n",
    "\n",
    "def avg_tries(N,runs):\n",
    "    return np.mean(tries(N,runs))\n",
    "\n",
    "simulations=[]\n",
    "for i in N:\n",
    "    simulations.append(avg_tries(i,100))    \n",
    "    \n",
    "def expected(N):\n",
    "    t=0\n",
    "    for i in range(N):\n",
    "        i=int(i)\n",
    "        t+=1/(i+1)      \n",
    "    return t*N\n",
    "\n",
    "exp_values=[]\n",
    "for i in N:\n",
    "    exp_values.append(expected(int(i)))\n",
    "        \n",
    "plt.scatter(N,simulations,label=\"number of tries (avg. over 100 sims)\")\n",
    "plt.plot(N,exp_values, label=\"expected number of tries\",color=\"g\")\n",
    "plt.legend()"
   ]
  }
 ],
 "metadata": {
  "kernelspec": {
   "display_name": "Python 3",
   "language": "python",
   "name": "python3"
  },
  "language_info": {
   "codemirror_mode": {
    "name": "ipython",
    "version": 3
   },
   "file_extension": ".py",
   "mimetype": "text/x-python",
   "name": "python",
   "nbconvert_exporter": "python",
   "pygments_lexer": "ipython3",
   "version": "3.7.3"
  }
 },
 "nbformat": 4,
 "nbformat_minor": 4
}
