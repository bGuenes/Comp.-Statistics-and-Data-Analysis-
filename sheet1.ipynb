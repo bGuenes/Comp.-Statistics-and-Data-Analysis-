{
 "cells": [
  {
   "cell_type": "markdown",
   "metadata": {},
   "source": [
    "# Exercise 1\n",
    "Berkay Günes & Niklas ??"
   ]
  },
  {
   "cell_type": "markdown",
   "metadata": {},
   "source": [
    "## 1 Set theory"
   ]
  },
  {
   "cell_type": "markdown",
   "metadata": {},
   "source": [
    "## 2 Conditional probabilities\n",
    "Two events, 𝐴 and 𝐵, are such that 𝑃(𝐴) = 0.5, 𝑃(𝐵) = 0.3, and 𝑃(𝐴 ∩ 𝐵) = 0.1. <br> <br>\n",
    "(a) $P(A|B) = \\frac{P(A\\cap B)}{P(B)} = \\frac{0.1}{0.3} = \\frac13$ <br> <br>\n",
    "(b) $P(A|A\\cup B) = \\frac{P(A\\cap(A\\cup B))}{P(A\\cup B)} = \\frac{P(A)}{P(A)+P(B)-P(A\\cap B)} = \\frac57$ <br> <br>\n",
    "(c) $P(A|A\\cap B) = \\frac{P(A\\cap(A\\cap B))}{P(A\\cap B)} = \\frac{P(A\\cap B)} = {P(A\\cap B)} = 1$ <br> <br>\n",
    "(d) $P(\\overline{A\\cap B}) = 1 - P(A\\cap B) = 0.9$"
   ]
  },
  {
   "cell_type": "markdown",
   "metadata": {},
   "source": [
    "## 3 Event composition\n",
    "\n",
    "In a group of 100 students, 40 are taking a math class, 30 are taking a physics class, and 20 are taking both math and physics. You randomly select a student. Calculate the probability that the selected student is taking a math class, but not a physics class. <br> <br>\n",
    "\n",
    "$n = 1, m = 0.4, p = 0.3, m\\cap p = 0.2$ <br>\n",
    "\n",
    "$P = P(m) - P(m\\cap p) = \\frac{0.4 - 0.2}{1} = 0.2$"
   ]
  },
  {
   "cell_type": "markdown",
   "metadata": {},
   "source": [
    "## 4 Coupon collector’s problem"
   ]
  }
 ],
 "metadata": {
  "language_info": {
   "name": "python"
  }
 },
 "nbformat": 4,
 "nbformat_minor": 2
}
