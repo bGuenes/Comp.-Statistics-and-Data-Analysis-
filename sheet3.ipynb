{
 "cells": [
  {
   "cell_type": "markdown",
   "metadata": {},
   "source": [
    "# Exercise 3\n",
    "Berkay Günes & Niklas Knöll"
   ]
  },
  {
   "cell_type": "markdown",
   "metadata": {},
   "source": [
    "## 1 Polluted water\n",
    "The problem can be seen as a Binomial distribution with $p=0.2$, $N=20$ and $k=\\{0,1,2,3,4,5,6\\}$. <br>\n",
    "\n",
    "(a) The probability of at least 14 fish surviving is given by adding the posibilities of up to 6 fish dying: <br>\n",
    "$$P(X \\le 6) =\\sum_{k=0}^{6} \\binom{20}{k} 0.2^k 0.8^{20-k}$$\n"
   ]
  },
  {
   "cell_type": "code",
   "execution_count": 5,
   "metadata": {},
   "outputs": [
    {
     "name": "stdout",
     "output_type": "stream",
     "text": [
      "0.9133074864326008\n"
     ]
    }
   ],
   "source": [
    "import math as m\n",
    "\n",
    "k = [0, 1, 2, 3, 4, 5, 6]\n",
    "p = 0\n",
    "\n",
    "for i in k:\n",
    "    p += m.factorial(20)/(m.factorial(i)*m.factorial(20-i)) * 0.2**i * 0.8**(20-i)\n",
    "\n",
    "print(p)"
   ]
  },
  {
   "cell_type": "markdown",
   "metadata": {},
   "source": [
    "So the possibility of at least 14 out of 20 fish surviving is $P(X\\le6) \\approx 91.33 \\%$ <br>\n",
    "(b) The expected value of the number of fish surviving is given by: <br>\n",
    "$$E(X) = N(1-p) = 20 \\cdot 0.8 = 16$$\n",
    "The variance is given by: <br>\n",
    "$$Var(X) = Np(1-p) = 20 \\cdot 0.8 \\cdot 0.2 = 3.2$$"
   ]
  },
  {
   "cell_type": "markdown",
   "metadata": {},
   "source": [
    "## 2 Distribution means\n",
    "(a) The expected value of a geometric distribution $P(X=x) = (1-p)^{k-1}p$ is given by:\n",
    "$$ \\begin{align*}\n",
    "E(X) &= \\sum_{k=1}^{\\infty} k(1-p)^{k-1}p \\\\\n",
    "    &= p \\bigg[ \\sum_{k=1}^{\\infty} (1-p)^{k-1} + \\sum_{k=2}^{\\infty} (1-p)^{k-1} + \\sum_{k=3}^{\\infty} (1-p)^{k-1} + ... \\bigg] \\\\\n",
    "    &= p\\big[ (1/p) + (1-p)/p + (1-p)^2 /p + ... \\big] \\\\\n",
    "    &= 1+(1-p)+(1-p)^2+... \\\\\n",
    "    &= \\frac{1}{1-(1-p)} \\\\\n",
    "    &= \\frac{1}{p} \n",
    "\\end{align*}$$\n",
    "(b) The expected value of a Poisson distribution $P(X=x) = \\frac{\\lambda^x}{x!}e^{-\\lambda}$ is given by:\n",
    "$$ \\begin{align*}\n",
    "E(X) &= \\sum_{x=0}^{\\infty} x \\frac{\\lambda^x}{x!}e^{-\\lambda} \\\\\n",
    "    &= \\sum_{x=1}^{\\infty} x \\frac{\\lambda^x}{x!}e^{-\\lambda} \\\\\n",
    "    &= e^{-\\lambda} \\sum_{x=1}^{\\infty} \\frac{x}{x!} \\lambda^x \\\\\n",
    "    &= \\lambda e^{-\\lambda} \\sum_{x=1}^{\\infty} \\frac{\\lambda^{x-1}}{(x-1)!}\\\\\n",
    "    &= \\lambda e^{-\\lambda} \\sum_{x=0}^{\\infty} \\frac{\\lambda^{z}}{z!} \\textrm{ (with z=(x-1))} \\\\\n",
    "    &= \\lambda e^{-\\lambda} e^{\\lambda} \\textrm{ (with the power series expansion of the exponential function)}\\\\\n",
    "    &= \\lambda\n",
    "\\end{align*}$$"
   ]
  },
  {
   "cell_type": "markdown",
   "metadata": {},
   "source": [
    "## 3 Conjugate priors"
   ]
  },
  {
   "cell_type": "markdown",
   "metadata": {},
   "source": [
    "## 4 The de Moivre–Laplace theorem"
   ]
  }
 ],
 "metadata": {
  "kernelspec": {
   "display_name": "Python 3",
   "language": "python",
   "name": "python3"
  },
  "language_info": {
   "codemirror_mode": {
    "name": "ipython",
    "version": 3
   },
   "file_extension": ".py",
   "mimetype": "text/x-python",
   "name": "python",
   "nbconvert_exporter": "python",
   "pygments_lexer": "ipython3",
   "version": "3.11.1"
  }
 },
 "nbformat": 4,
 "nbformat_minor": 2
}
